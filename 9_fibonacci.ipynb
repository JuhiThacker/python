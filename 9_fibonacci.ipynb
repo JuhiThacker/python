{
 "cells": [
  {
   "cell_type": "code",
   "execution_count": 1,
   "id": "3ee35064-f2a2-4eff-b0e4-8fd5c5775fad",
   "metadata": {},
   "outputs": [
    {
     "name": "stdin",
     "output_type": "stream",
     "text": [
      "Enter the number 5\n"
     ]
    },
    {
     "name": "stdout",
     "output_type": "stream",
     "text": [
      "1 2 3 5 8 \n"
     ]
    }
   ],
   "source": [
    "#print fibonacci sequence.\n",
    "n=int(input(\"Enter the number\"))\n",
    "num1=0\n",
    "num2=1\n",
    "next_num=num2\n",
    "count=1\n",
    "while count <=n:\n",
    "    print(next_num,end=\" \")\n",
    "    count += 1\n",
    "    num1,num2=num2,next_num\n",
    "    next_num=num1+num2\n",
    "print()"
   ]
  },
  {
   "cell_type": "code",
   "execution_count": null,
   "id": "8ebca438-9ec5-4fda-bff3-5639d4ae2e32",
   "metadata": {},
   "outputs": [],
   "source": []
  }
 ],
 "metadata": {
  "kernelspec": {
   "display_name": "Python 3 (ipykernel)",
   "language": "python",
   "name": "python3"
  },
  "language_info": {
   "codemirror_mode": {
    "name": "ipython",
    "version": 3
   },
   "file_extension": ".py",
   "mimetype": "text/x-python",
   "name": "python",
   "nbconvert_exporter": "python",
   "pygments_lexer": "ipython3",
   "version": "3.11.9"
  }
 },
 "nbformat": 4,
 "nbformat_minor": 5
}
