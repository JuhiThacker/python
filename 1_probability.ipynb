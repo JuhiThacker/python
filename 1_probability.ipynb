{
 "cells": [
  {
   "cell_type": "code",
   "execution_count": 3,
   "id": "4dabbd19-c08f-4aae-ba25-2e016c36951f",
   "metadata": {},
   "outputs": [
    {
     "name": "stdout",
     "output_type": "stream",
     "text": [
      "Probability of drawing a card that is neither a king nor a spade. 0.07692307692307693\n"
     ]
    }
   ],
   "source": [
    "#find the probability of it being neither a king nor a spade\n",
    "total_card=52\n",
    "num_king=4\n",
    "num_spades=13\n",
    "num_king_spades=1\n",
    "num_neither=total_card-num_king-num_spades+num_king_spades\n",
    "probability=num_king/total_card\n",
    "print(\"Probability of drawing a card that is neither a king nor a spade.\",probability) "
   ]
  },
  {
   "cell_type": "code",
   "execution_count": null,
   "id": "c4b6f318-b905-4cb9-9c2a-cac236195fc1",
   "metadata": {},
   "outputs": [],
   "source": []
  }
 ],
 "metadata": {
  "kernelspec": {
   "display_name": "Python 3 (ipykernel)",
   "language": "python",
   "name": "python3"
  },
  "language_info": {
   "codemirror_mode": {
    "name": "ipython",
    "version": 3
   },
   "file_extension": ".py",
   "mimetype": "text/x-python",
   "name": "python",
   "nbconvert_exporter": "python",
   "pygments_lexer": "ipython3",
   "version": "3.11.9"
  }
 },
 "nbformat": 4,
 "nbformat_minor": 5
}
