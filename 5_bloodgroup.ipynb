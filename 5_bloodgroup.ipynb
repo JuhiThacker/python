{
 "cells": [
  {
   "cell_type": "code",
   "execution_count": null,
   "id": "70d11771-4380-4a9d-8f25-854b253d61a9",
   "metadata": {},
   "outputs": [],
   "source": [
    "#write a program to find out if the two blood groups match.\n",
    "bg1=input(\"Enter the blood groups:\")\n",
    "bg2=input(\"Enter the blood groups:\")\n",
    "if bg1==bg2:\n",
    "    print(\"The two blood groups match.\")\n",
    "else:\n",
    "    print(\"It is a mismatch.\")"
   ]
  },
  {
   "cell_type": "code",
   "execution_count": null,
   "id": "71dc6c16-4b26-45de-847e-eac338092bf7",
   "metadata": {},
   "outputs": [],
   "source": []
  }
 ],
 "metadata": {
  "kernelspec": {
   "display_name": "Python 3 (ipykernel)",
   "language": "python",
   "name": "python3"
  },
  "language_info": {
   "codemirror_mode": {
    "name": "ipython",
    "version": 3
   },
   "file_extension": ".py",
   "mimetype": "text/x-python",
   "name": "python",
   "nbconvert_exporter": "python",
   "pygments_lexer": "ipython3",
   "version": "3.11.9"
  }
 },
 "nbformat": 4,
 "nbformat_minor": 5
}
