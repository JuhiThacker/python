{
 "cells": [
  {
   "cell_type": "code",
   "execution_count": 13,
   "id": "d087195d-94af-4011-86a6-32494b39c5fe",
   "metadata": {},
   "outputs": [
    {
     "name": "stdin",
     "output_type": "stream",
     "text": [
      "Enter the number: 12\n"
     ]
    },
    {
     "name": "stdout",
     "output_type": "stream",
     "text": [
      "number is not prime\n"
     ]
    }
   ],
   "source": [
    "#primality testing: given a positive integer, check if the number is prime or not\n",
    "import math,sys\n",
    "n=int(input(\"Enter the number:\"))\n",
    "if n%2==0:\n",
    "    print(\"number is not prime\")\n",
    "else:\n",
    "    for i in range(3,1+int(math.sqrt(n)),2):\n",
    "        if n%i==0:\n",
    "            print(\"number is not prime\")\n",
    "       # sys.exit()\n",
    "        else:\n",
    "            print(\"number is prime\")"
   ]
  },
  {
   "cell_type": "code",
   "execution_count": null,
   "id": "4151341f-2fa5-457e-8ae4-349e4779cd61",
   "metadata": {},
   "outputs": [],
   "source": []
  }
 ],
 "metadata": {
  "kernelspec": {
   "display_name": "Python 3 (ipykernel)",
   "language": "python",
   "name": "python3"
  },
  "language_info": {
   "codemirror_mode": {
    "name": "ipython",
    "version": 3
   },
   "file_extension": ".py",
   "mimetype": "text/x-python",
   "name": "python",
   "nbconvert_exporter": "python",
   "pygments_lexer": "ipython3",
   "version": "3.11.9"
  }
 },
 "nbformat": 4,
 "nbformat_minor": 5
}
