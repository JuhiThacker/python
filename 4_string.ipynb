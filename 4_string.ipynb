{
 "cells": [
  {
   "cell_type": "code",
   "execution_count": 2,
   "id": "6aaf5c4e-2d1e-480e-b75a-b26cd3899e8a",
   "metadata": {},
   "outputs": [
    {
     "name": "stdin",
     "output_type": "stream",
     "text": [
      "Enter the string welcome to gujrat vidhapith\n"
     ]
    },
    {
     "name": "stdout",
     "output_type": "stream",
     "text": [
      "htipahdiv tarjug ot emoclew\n",
      "ujrat vidhapi\n",
      "h\n",
      "wel\n"
     ]
    }
   ],
   "source": [
    "#word shuffle using string manipulation.\n",
    "un=input(\"Enter the string\")\n",
    "print(un[::-1])\n",
    "print(un[12:-2])\n",
    "print(un[-1])\n",
    "print(un[0:3])"
   ]
  },
  {
   "cell_type": "code",
   "execution_count": null,
   "id": "005ea8c8-db46-4398-b41a-d18dbb043e9d",
   "metadata": {},
   "outputs": [],
   "source": []
  }
 ],
 "metadata": {
  "kernelspec": {
   "display_name": "Python 3 (ipykernel)",
   "language": "python",
   "name": "python3"
  },
  "language_info": {
   "codemirror_mode": {
    "name": "ipython",
    "version": 3
   },
   "file_extension": ".py",
   "mimetype": "text/x-python",
   "name": "python",
   "nbconvert_exporter": "python",
   "pygments_lexer": "ipython3",
   "version": "3.11.9"
  }
 },
 "nbformat": 4,
 "nbformat_minor": 5
}
