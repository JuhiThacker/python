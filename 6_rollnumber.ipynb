{
 "cells": [
  {
   "cell_type": "code",
   "execution_count": 2,
   "id": "2a71c0e3-7174-4df1-8735-e477172d6cf3",
   "metadata": {},
   "outputs": [
    {
     "name": "stdin",
     "output_type": "stream",
     "text": [
      "Enter Your Roll Number: cN89000\n"
     ]
    },
    {
     "name": "stdout",
     "output_type": "stream",
     "text": [
      "The student is not in the CS department\n"
     ]
    }
   ],
   "source": [
    "#find the student from CS department where the roll number may be in capital or small-case letters.\n",
    "roll_No=input(\"Enter Your Roll Number:\")\n",
    "if (roll_No[0]=='C' and roll_No[1]=='S'):\n",
    "    print(\"The student is in the CS department\")\n",
    "elif (roll_No[0]=='c' and roll_No=='s'):\n",
    "    print(\"The student is in the CS department\")\n",
    "else:\n",
    "    print(\"The student is not in the CS department\")"
   ]
  },
  {
   "cell_type": "code",
   "execution_count": null,
   "id": "5c0234cb-7fd7-4e64-a835-daba05352076",
   "metadata": {},
   "outputs": [],
   "source": []
  },
  {
   "cell_type": "code",
   "execution_count": null,
   "id": "5f7bb10f-c84a-4972-92ea-3d3da8e14232",
   "metadata": {},
   "outputs": [],
   "source": []
  }
 ],
 "metadata": {
  "kernelspec": {
   "display_name": "Python 3 (ipykernel)",
   "language": "python",
   "name": "python3"
  },
  "language_info": {
   "codemirror_mode": {
    "name": "ipython",
    "version": 3
   },
   "file_extension": ".py",
   "mimetype": "text/x-python",
   "name": "python",
   "nbconvert_exporter": "python",
   "pygments_lexer": "ipython3",
   "version": "3.11.9"
  }
 },
 "nbformat": 4,
 "nbformat_minor": 5
}
