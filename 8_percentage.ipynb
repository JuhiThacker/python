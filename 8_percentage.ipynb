{
 "cells": [
  {
   "cell_type": "code",
   "execution_count": 1,
   "id": "273c190c-62db-47fc-aef4-c88434175e0f",
   "metadata": {},
   "outputs": [
    {
     "name": "stdin",
     "output_type": "stream",
     "text": [
      "Number of student 3\n",
      "Enter marks 20\n"
     ]
    },
    {
     "name": "stdout",
     "output_type": "stream",
     "text": [
      "0.0 %passed\n"
     ]
    },
    {
     "name": "stdin",
     "output_type": "stream",
     "text": [
      "Enter marks 20\n"
     ]
    },
    {
     "name": "stdout",
     "output_type": "stream",
     "text": [
      "0.0 %passed\n"
     ]
    },
    {
     "name": "stdin",
     "output_type": "stream",
     "text": [
      "Enter marks 40\n"
     ]
    },
    {
     "name": "stdout",
     "output_type": "stream",
     "text": [
      "33.333333333333336 %passed\n"
     ]
    }
   ],
   "source": [
    "#find out pass-percentage of a class. A teacher is entering the marks of students. \n",
    "#A student passes a course if the marks are at least 40. The teacher wants to know the percentage of students passed.\n",
    "n=int(input(\"Number of student\"))\n",
    "i=0\n",
    "p=0\n",
    "while i<n:\n",
    "    mark=int (input(\"Enter marks\"))\n",
    "    if mark>=40:\n",
    "        p=p+1\n",
    "    i=i+1\n",
    "    print(p*100/n,\"%passed\")"
   ]
  },
  {
   "cell_type": "code",
   "execution_count": null,
   "id": "a641e121-6205-455b-a9b6-2ac8bbd65477",
   "metadata": {},
   "outputs": [],
   "source": []
  }
 ],
 "metadata": {
  "kernelspec": {
   "display_name": "Python 3 (ipykernel)",
   "language": "python",
   "name": "python3"
  },
  "language_info": {
   "codemirror_mode": {
    "name": "ipython",
    "version": 3
   },
   "file_extension": ".py",
   "mimetype": "text/x-python",
   "name": "python",
   "nbconvert_exporter": "python",
   "pygments_lexer": "ipython3",
   "version": "3.11.9"
  }
 },
 "nbformat": 4,
 "nbformat_minor": 5
}
