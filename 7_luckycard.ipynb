{
 "cells": [
  {
   "cell_type": "code",
   "execution_count": 2,
   "id": "8c356907-9406-4d48-91ff-84469c3d960d",
   "metadata": {},
   "outputs": [
    {
     "name": "stdin",
     "output_type": "stream",
     "text": [
      "Enter your card ace of king\n"
     ]
    },
    {
     "name": "stdout",
     "output_type": "stream",
     "text": [
      "invalid card\n"
     ]
    }
   ],
   "source": [
    "#to read cards as input and output if the card is lucky or not \n",
    "card,of,suite=input(\"Enter your card\").split()\n",
    "if (suite!='spade' and suite!='heart' and suite!=\"club\" and suite!=\"diamond\")\\\n",
    "    or(card!=\"ace\" and card!=\"2\" and card!=\"3\" and card!=\"4\" and card!=\"6\" and card!=\"7\" \\\n",
    "       and card!=\"8\" and card!=\"10\" and card!=\"jack\" and card!=\"queen\" and card!=\"king\"):\n",
    "    print(\"invalid card\")\n",
    "elif (suite==\"spade\" and card==\"ace\") or\\\n",
    "    (suite==\"heart\") or\\\n",
    "    (suite==\"diamond\" and card==\"queen\") or\\\n",
    "    (suite==\"diamond\" and card==\"king\") or\\\n",
    "    (card==\"7\"):\n",
    "    print(\"Lucky you!\")\n",
    "else:\n",
    "    print(\"Better Luck next time\")"
   ]
  },
  {
   "cell_type": "code",
   "execution_count": null,
   "id": "42e2b1a1-3a45-4a1c-a082-e289c99cb709",
   "metadata": {},
   "outputs": [],
   "source": []
  }
 ],
 "metadata": {
  "kernelspec": {
   "display_name": "Python 3 (ipykernel)",
   "language": "python",
   "name": "python3"
  },
  "language_info": {
   "codemirror_mode": {
    "name": "ipython",
    "version": 3
   },
   "file_extension": ".py",
   "mimetype": "text/x-python",
   "name": "python",
   "nbconvert_exporter": "python",
   "pygments_lexer": "ipython3",
   "version": "3.11.9"
  }
 },
 "nbformat": 4,
 "nbformat_minor": 5
}
