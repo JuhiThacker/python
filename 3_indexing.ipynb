{
 "cells": [
  {
   "cell_type": "code",
   "execution_count": null,
   "id": "76f6518a-7c56-45d0-bbd6-f926b6825280",
   "metadata": {},
   "outputs": [],
   "source": [
    "#Extracting fields of a roll number using string indexing and slicing\n",
    "roll_num=input(\"Enter the roll number\")\n",
    "department_code=roll_num[:2]\n",
    "print(\"Department Code:\",department_code)\n",
    "course_code=roll_num[2:4]\n",
    "print(\"Course Code:\",course_code)\n",
    "roll_number=roll_num[4:]\n",
    "print(\"Roll Number:\",roll_number)"
   ]
  },
  {
   "cell_type": "code",
   "execution_count": null,
   "id": "0bcf14bb-7524-4085-b45a-820557cc89ae",
   "metadata": {},
   "outputs": [],
   "source": []
  }
 ],
 "metadata": {
  "kernelspec": {
   "display_name": "Python 3 (ipykernel)",
   "language": "python",
   "name": "python3"
  },
  "language_info": {
   "codemirror_mode": {
    "name": "ipython",
    "version": 3
   },
   "file_extension": ".py",
   "mimetype": "text/x-python",
   "name": "python",
   "nbconvert_exporter": "python",
   "pygments_lexer": "ipython3",
   "version": "3.11.9"
  }
 },
 "nbformat": 4,
 "nbformat_minor": 5
}
