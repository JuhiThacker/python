{
 "cells": [
  {
   "cell_type": "code",
   "execution_count": 6,
   "id": "7e9a8e40-2625-4f9c-997e-06f8ef278faf",
   "metadata": {},
   "outputs": [
    {
     "name": "stdin",
     "output_type": "stream",
     "text": [
      "Enter the month: 02\n"
     ]
    },
    {
     "name": "stdout",
     "output_type": "stream",
     "text": [
      "Not found!!\n"
     ]
    }
   ],
   "source": [
    "#find birthdays in a month using dictionary. birthdays in DD/MM/YY format.\n",
    "birthdays={'A':'01/07/00','B':'02/09/03','C':'11/10/05','D':'18/03/04'}\n",
    "b=int(input(\"Enter the month:\"))\n",
    "for name,bday in birthdays.items():\n",
    "    if bday[3:5]==b:\n",
    "        print(name)\n",
    "else:\n",
    "    print(\"Not found!!\")"
   ]
  },
  {
   "cell_type": "code",
   "execution_count": null,
   "id": "dc33a12d-837c-4e96-a9c0-51b4e59ac0fd",
   "metadata": {},
   "outputs": [],
   "source": []
  }
 ],
 "metadata": {
  "kernelspec": {
   "display_name": "Python 3 (ipykernel)",
   "language": "python",
   "name": "python3"
  },
  "language_info": {
   "codemirror_mode": {
    "name": "ipython",
    "version": 3
   },
   "file_extension": ".py",
   "mimetype": "text/x-python",
   "name": "python",
   "nbconvert_exporter": "python",
   "pygments_lexer": "ipython3",
   "version": "3.11.9"
  }
 },
 "nbformat": 4,
 "nbformat_minor": 5
}
