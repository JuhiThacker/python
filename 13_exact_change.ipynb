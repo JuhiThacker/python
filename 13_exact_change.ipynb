{
 "cells": [
  {
   "cell_type": "code",
   "execution_count": 2,
   "id": "2184dc79-283e-4749-9df9-9552f7c4a8db",
   "metadata": {},
   "outputs": [
    {
     "name": "stdin",
     "output_type": "stream",
     "text": [
      "Price: 10\n",
      "Denominations: 1 2 5 \n"
     ]
    },
    {
     "name": "stdout",
     "output_type": "stream",
     "text": [
      "Can you form 10 Exactly using 1 2 5 ?\n",
      "0 0 2\n",
      "0 5 0\n",
      "1 2 1\n",
      "2 4 0\n",
      "3 1 1\n",
      "4 3 0\n",
      "5 0 1\n",
      "6 2 0\n",
      "8 1 0\n",
      "10 0 0\n"
     ]
    }
   ],
   "source": [
    "#exact change: given a price identify if you have exact change summing up to that price?\n",
    "price=int(input(\"Price:\"))\n",
    "deno1,deno2,deno3=map(int,input(\"Denominations:\").split())\n",
    "print(\"Can you form\",price,\"Exactly using\",deno1,deno2,deno3,\"?\")\n",
    "for d1 in range(0,1+price//deno1):\n",
    "    for d2 in range(0,1+price//deno2):\n",
    "        for d3 in range(0,1+price//deno3):\n",
    "            if d1*deno1+d2*deno2+d3*deno3==price:\n",
    "                print(d1,d2,d3)"
   ]
  },
  {
   "cell_type": "code",
   "execution_count": null,
   "id": "6117e7a6-bdaa-440a-901d-e826a0e032cc",
   "metadata": {},
   "outputs": [],
   "source": []
  }
 ],
 "metadata": {
  "kernelspec": {
   "display_name": "Python 3 (ipykernel)",
   "language": "python",
   "name": "python3"
  },
  "language_info": {
   "codemirror_mode": {
    "name": "ipython",
    "version": 3
   },
   "file_extension": ".py",
   "mimetype": "text/x-python",
   "name": "python",
   "nbconvert_exporter": "python",
   "pygments_lexer": "ipython3",
   "version": "3.11.9"
  }
 },
 "nbformat": 4,
 "nbformat_minor": 5
}
